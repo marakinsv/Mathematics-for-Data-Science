{
  "nbformat": 4,
  "nbformat_minor": 0,
  "metadata": {
    "colab": {
      "provenance": []
    },
    "kernelspec": {
      "name": "python3",
      "display_name": "Python 3"
    },
    "language_info": {
      "name": "python"
    }
  },
  "cells": [
    {
      "cell_type": "code",
      "execution_count": 320,
      "metadata": {
        "id": "nvKJNalg5ZZK"
      },
      "outputs": [],
      "source": [
        "import pandas as pd\n",
        "import numpy as np\n",
        "from statsmodels.distributions.empirical_distribution import ECDF\n",
        "import matplotlib.pyplot as plt\n",
        "%matplotlib inline\n",
        "plt.rcParams[\"figure.figsize\"] = [10, 5]\n",
        "import seaborn as sns\n",
        "from scipy import stats\n",
        "import math"
      ]
    },
    {
      "cell_type": "markdown",
      "source": [
        "**Исследование зависимостей: Номинальные признаки.**"
      ],
      "metadata": {
        "id": "yyU0nzNoNfUQ"
      }
    },
    {
      "cell_type": "markdown",
      "source": [
        "**Критерий хи-квадрат Пирсона.**"
      ],
      "metadata": {
        "id": "eyWy09AsL2z9"
      }
    },
    {
      "cell_type": "code",
      "source": [
        "def criteria_chisquared_pearson(table, a=0.05):\n",
        "    value_stats_criteria = 0.0\n",
        "    for i in range(table.shape[0] - 1):\n",
        "        for j in range(table.shape[1] - 1):\n",
        "            value_stats_criteria += (table[i,j] - table[i,-1] * table[-1,j] / table[-1,-1])**(2) / (table[i,-1] * table[-1,j] / table[-1,-1])\n",
        "  \n",
        "    chi2 = stats.chi2.ppf(1 - a, (table.shape[0] - 2) * (table.shape[1] - 2))\n",
        "\n",
        "    print(\"Значение статистики критерия -\", value_stats_criteria, \"\\nКритическое значение критерия хи-квадрат Пирсона -\", chi2)\n",
        "\n",
        "    pvalue = 1 - stats.norm.cdf(value_stats_criteria)\n",
        "    print(\"P-значение - {}\".format(pvalue))\n",
        "\n",
        "    if value_stats_criteria <= chi2:\n",
        "        print(\"Гипотеза H0 принимется (признаки независимы)\")\n",
        "    else: print(\"Гипотеза H0 отвергается в пользу Ha (признаки зависимы)\")\n",
        "\n",
        "    return value_stats_criteria"
      ],
      "metadata": {
        "id": "FELIa4Z7uDdW"
      },
      "execution_count": 321,
      "outputs": []
    },
    {
      "cell_type": "code",
      "source": [
        "def link_coefficients(criteria_chisquared_pearson, total_value, count_rows, count_cols, table):\n",
        "    coef1 = math.sqrt(criteria_chisquared_pearson / total_value)\n",
        "    print(\"{} - {}\".format(\"Коэффициент среднеквадратической сопряжённости\", coef1))\n",
        "    coef2 = math.sqrt(criteria_chisquared_pearson / total_value)\n",
        "    print(\"{} - {}\".format(\"Коэффициент Пирсона\", coef2))\n",
        "    coef3 = math.sqrt(criteria_chisquared_pearson / (total_value * math.sqrt((count_rows - 1) * (count_cols - 1))))\n",
        "    print(\"{} - {}\".format(\"Коэффициент Чупрова\", coef3))\n",
        "    coef4 = math.sqrt(criteria_chisquared_pearson / (total_value * min((count_rows - 1), (count_cols - 1))))\n",
        "    print(\"{} - {}\".format(\"Коэффициент Крамера\", coef4))\n",
        "\n",
        "    Pb1 = 1 - np.max(table[-1, :-1]) / total_value\n",
        "    Pb2 = 1 - np.sum(np.max(table[:-1, :-1], axis=1)) / total_value\n",
        "    Pa1 = 1 - np.max(table[:-1, -1]) / total_value\n",
        "    Pa2 = 1 - np.sum(np.max(table[:-1, :-1], axis=0)) / total_value\n",
        "\n",
        "    Lb = (Pb1 - Pb2) / Pb1\n",
        "    La = (Pa1 - Pa2) / Pa1\n",
        "\n",
        "    print(\"Меры прогноза Гутмана: La - {}, Lb - {}\".format(La, Lb))\n",
        "\n",
        "    if count_rows == 2 and count_cols == 2:\n",
        "        a = table[0,0]; b = table[0,1]; c = table[1,0]; d = table[1,1]\n",
        "\n",
        "        coef5 = (a*d - b*c) / math.sqrt((a + b) * (c + d) * (a + c) * (b + d))\n",
        "        print(\"{} - {}\".format(\"Коэффициент контингенции\", coef5))\n",
        "\n",
        "        coef6 = (a*d - b*c) / (a*d + b*c)\n",
        "        print(\"{} - {}\".format(\"Коэффициент ассоциации\", coef6))"
      ],
      "metadata": {
        "id": "Q4sntTiKOlKO"
      },
      "execution_count": 322,
      "outputs": []
    },
    {
      "cell_type": "markdown",
      "source": [
        "**Задача 1.1.**"
      ],
      "metadata": {
        "id": "_OMAKqTxMFbe"
      }
    },
    {
      "cell_type": "code",
      "source": [
        "table = np.array([\n",
        "    [12, 48, 47],\n",
        "    [20, 478, 666],\n",
        "    [11, 160, 701]\n",
        "])"
      ],
      "metadata": {
        "id": "TYx7cY37MFwh"
      },
      "execution_count": 323,
      "outputs": []
    },
    {
      "cell_type": "code",
      "source": [
        "table = table.astype(np.float32)\n",
        "\n",
        "table = np.concatenate((table, np.sum(table, axis = 0)[np.newaxis, :]), axis=0)\n",
        "table = np.concatenate((table, np.sum(table, axis = 1)[:, np.newaxis]), axis=1)\n",
        "\n",
        "table"
      ],
      "metadata": {
        "colab": {
          "base_uri": "https://localhost:8080/"
        },
        "id": "tdA6Tc0lMK7Z",
        "outputId": "b286376e-4621-46cd-b37b-a8528db91571"
      },
      "execution_count": 324,
      "outputs": [
        {
          "output_type": "execute_result",
          "data": {
            "text/plain": [
              "array([[  12.,   48.,   47.,  107.],\n",
              "       [  20.,  478.,  666., 1164.],\n",
              "       [  11.,  160.,  701.,  872.],\n",
              "       [  43.,  686., 1414., 2143.]], dtype=float32)"
            ]
          },
          "metadata": {},
          "execution_count": 324
        }
      ]
    },
    {
      "cell_type": "code",
      "source": [
        "val = criteria_chisquared_pearson(table, 0.05)\n",
        "print(\"\")\n",
        "link_coefficients(val, table[-1,-1], table.shape[0] - 1, table.shape[1] - 1, table)"
      ],
      "metadata": {
        "colab": {
          "base_uri": "https://localhost:8080/"
        },
        "id": "bpD1kPnlMkMt",
        "outputId": "5e3a0b2c-f9dd-4f18-8901-145080ca4a43"
      },
      "execution_count": 325,
      "outputs": [
        {
          "output_type": "stream",
          "name": "stdout",
          "text": [
            "Значение статистики критерия - 183.16555698660235 \n",
            "Критическое значение критерия хи-квадрат Пирсона - 9.487729036781154\n",
            "P-значение - 0.0\n",
            "Гипотеза H0 отвергается в пользу Ha (признаки зависимы)\n",
            "\n",
            "Коэффициент среднеквадратической сопряжённости - 0.2923551980433383\n",
            "Коэффициент Пирсона - 0.2923551980433383\n",
            "Коэффициент Чупрова - 0.20672634305158058\n",
            "Коэффициент Крамера - 0.20672634305158058\n",
            "Меры прогноза Гутмана: La - 0.035750818063681106, Lb - 0.0013715940558183413\n"
          ]
        }
      ]
    },
    {
      "cell_type": "markdown",
      "source": [
        "***Выводы: Признаки имеют зависимость ниже средней.***"
      ],
      "metadata": {
        "id": "2wo_1i5pPPJN"
      }
    },
    {
      "cell_type": "markdown",
      "source": [
        "**Задача 1.2.**"
      ],
      "metadata": {
        "id": "vba5re1A9Qy6"
      }
    },
    {
      "cell_type": "code",
      "source": [
        "table = np.array([\n",
        "    [168, 92],\n",
        "    [85, 135]\n",
        "])"
      ],
      "metadata": {
        "id": "QFKSfQsV9Wiz"
      },
      "execution_count": 326,
      "outputs": []
    },
    {
      "cell_type": "code",
      "source": [
        "table = table.astype(np.float32)\n",
        "\n",
        "table = np.concatenate((table, np.sum(table, axis = 0)[np.newaxis, :]), axis=0)\n",
        "table = np.concatenate((table, np.sum(table, axis = 1)[:, np.newaxis]), axis=1)"
      ],
      "metadata": {
        "id": "jER-kOFH9o7l"
      },
      "execution_count": 327,
      "outputs": []
    },
    {
      "cell_type": "code",
      "source": [
        "val = criteria_chisquared_pearson(table, 0.05)\n",
        "print(\"\")\n",
        "link_coefficients(val, table[-1,-1], table.shape[0] - 1, table.shape[1] - 1, table)"
      ],
      "metadata": {
        "colab": {
          "base_uri": "https://localhost:8080/"
        },
        "id": "CVGHwpbs9g_E",
        "outputId": "a0bfb1ce-0813-4fe9-d8bb-42f5553e8353"
      },
      "execution_count": 328,
      "outputs": [
        {
          "output_type": "stream",
          "name": "stdout",
          "text": [
            "Значение статистики критерия - 32.265356570881565 \n",
            "Критическое значение критерия хи-квадрат Пирсона - 3.841458820694124\n",
            "P-значение - 0.0\n",
            "Гипотеза H0 отвергается в пользу Ha (признаки зависимы)\n",
            "\n",
            "Коэффициент среднеквадратической сопряжённости - 0.25926722287247045\n",
            "Коэффициент Пирсона - 0.25926722287247045\n",
            "Коэффициент Чупрова - 0.25926722287247045\n",
            "Коэффициент Крамера - 0.25926722287247045\n",
            "Меры прогноза Гутмана: La - 0.19545456259703908, Lb - 0.22026436104345415\n",
            "Коэффициент контингенции - 0.25926721756930693\n",
            "Коэффициент ассоциации - 0.4872131049633026\n"
          ]
        }
      ]
    },
    {
      "cell_type": "markdown",
      "source": [
        "***Выводы: Признаки имеют зависимость ниже средней.***"
      ],
      "metadata": {
        "id": "4YHzmQM8Q7y_"
      }
    },
    {
      "cell_type": "markdown",
      "source": [
        "**Исследование зависимостей: Порядковые и количественные признаки.**"
      ],
      "metadata": {
        "id": "83tFMlkf35uB"
      }
    },
    {
      "cell_type": "code",
      "source": [
        "def get_ranges(sequence):\n",
        "    maxvalue = 10000000000\n",
        "    ranks = [0] * len(sequence)\n",
        "\n",
        "    temp_sequence = list(sequence.copy())\n",
        "\n",
        "    rank = 1\n",
        "    while True:\n",
        "        minval = min(temp_sequence)\n",
        "        idx = temp_sequence.index(minval)\n",
        "\n",
        "        if minval == maxvalue: break\n",
        "\n",
        "        ranks[idx] = rank\n",
        "        temp_sequence[idx] = maxvalue\n",
        "        rank += 1\n",
        "\n",
        "    return np.array(ranks)"
      ],
      "metadata": {
        "id": "qB7EylX3TcJ6"
      },
      "execution_count": 329,
      "outputs": []
    },
    {
      "cell_type": "code",
      "source": [
        "def criteria_coef_correlation(X, Y, a=0.05):\n",
        "    r = (np.sum((X - np.mean(X)) * (Y - np.mean(Y))) / len(X)) / np.sqrt((np.sum((X - np.mean(X))**2) / len(X)) * (np.sum((Y - np.mean(Y))**2) / len(Y)))\n",
        "\n",
        "    print(\"Коэффициент корреляции -\", r)\n",
        "\n",
        "    value_stats_criteria = (r * math.sqrt(len(X) - 2)) / math.sqrt(1 - r**2)\n",
        "\n",
        "    tmin = stats.t.ppf(a / 2, len(X) - 2)\n",
        "    tmax = stats.t.ppf(1 - a / 2, len(X) - 2)\n",
        "\n",
        "    print(\"Значение статистики критерия -\", value_stats_criteria) \n",
        "    print(\"Квантиль стандартного нормального распределения: уровня альфа/2 - {}, уровня 1 - альфа/2 - {}\".format(tmin, tmax))\n",
        "\n",
        "    pvalue = 2 * stats.norm.cdf(value_stats_criteria)\n",
        "    pvalue2 = 2 - 2 * stats.norm.cdf(value_stats_criteria)\n",
        "    if pvalue > pvalue2: pvalue = pvalue2\n",
        "\n",
        "    if value_stats_criteria > tmin and value_stats_criteria < tmax: return (\"H0 (coef of correlation = 0) - accept\", \"PValue={}\".format(pvalue))\n",
        "\n",
        "    return (\"H0 (coef of correlation = 0) - reject\", \"PValue={}\".format(pvalue))\n",
        "\n",
        "    return value_stats_criteria"
      ],
      "metadata": {
        "id": "6-DMxO5y4u9G"
      },
      "execution_count": 330,
      "outputs": []
    },
    {
      "cell_type": "code",
      "source": [
        "def criteria_spearman(X, Y, a=0.05):\n",
        "    n = len(X)\n",
        "\n",
        "    r = get_ranges(X)\n",
        "    s = get_ranges(Y)\n",
        "\n",
        "    S = np.sum((r - s)**2)\n",
        "\n",
        "    ro = 1 - (6 * S / (n * n**2 - n))\n",
        "\n",
        "    print(\"Ранговый коэффициент корреляции Спирмена -\", ro)\n",
        "\n",
        "    value_stats_criteria = math.sqrt(n - 1) * ro\n",
        "\n",
        "    tmin = stats.t.ppf(a / 2, 1000)\n",
        "    tmax = stats.t.ppf(1 - a / 2, 1000)\n",
        "\n",
        "    print(\"Значение статистики критерия -\", value_stats_criteria) \n",
        "    print(\"Квантиль стандартного нормального распределения: уровня альфа/2 - {}, уровня 1 - альфа/2 - {}\".format(tmin, tmax))\n",
        "\n",
        "    pvalue = 2 * stats.norm.cdf(value_stats_criteria)\n",
        "    pvalue2 = 2 - 2 * stats.norm.cdf(value_stats_criteria)\n",
        "    if pvalue > pvalue2: pvalue = pvalue2\n",
        "\n",
        "    if value_stats_criteria > tmin and value_stats_criteria < tmax: return (\"H0 (coef of correlation = 0) - accept\", \"PValue={}\".format(pvalue))\n",
        "\n",
        "    return (\"H0 (coef of correlation = 0) - reject\", \"PValue={}\".format(pvalue))\n",
        "\n",
        "    return value_stats_criteria"
      ],
      "metadata": {
        "id": "em_uxWNKPadh"
      },
      "execution_count": 331,
      "outputs": []
    },
    {
      "cell_type": "code",
      "source": [
        "def criteria_kendall(X, Y, a=0.05):\n",
        "    n = len(X)\n",
        "\n",
        "    r_ = list(get_ranges(X))\n",
        "    r = r_[:]\n",
        "    r.sort()  # Сортируем по возрасанию\n",
        "    s_ = list(get_ranges(Y))\n",
        "    s = [0] * n\n",
        "  \n",
        "    for idx in range(n):\n",
        "        val = r_[idx]\n",
        "        idx_ = r.index(val)\n",
        "        s[idx_] = s_[idx]\n",
        "\n",
        "    K = 0  # число несогласованных пар\n",
        "    for idx in range(n - 1):\n",
        "        for idx_ in range(idx + 1, n):\n",
        "            if s[idx_] < s[idx]: K += 1\n",
        "\n",
        "    t = 1 - (4 * K / (n * (n - 1)))\n",
        "\n",
        "    print(\"Коэффициент согласованности (коэффициент Кендалла) -\", t)\n",
        "\n",
        "    value_stats_criteria = (3 * math.sqrt(n) / 2) * t\n",
        "\n",
        "    tmin = stats.t.ppf(a / 2, 1000)\n",
        "    tmax = stats.t.ppf(1 - a / 2, 1000)\n",
        "\n",
        "    print(\"Значение статистики критерия -\", value_stats_criteria) \n",
        "    print(\"Квантиль стандартного нормального распределения: уровня альфа/2 - {}, уровня 1 - альфа/2 - {}\".format(tmin, tmax))\n",
        "\n",
        "    pvalue = 2 * stats.norm.cdf(value_stats_criteria)\n",
        "    pvalue2 = 2 - 2 * stats.norm.cdf(value_stats_criteria)\n",
        "    if pvalue > pvalue2: pvalue = pvalue2\n",
        "\n",
        "    if value_stats_criteria > tmin and value_stats_criteria < tmax: return (\"H0 (coef of correlation = 0) - accept\", \"PValue={}\".format(pvalue))\n",
        "\n",
        "    return (\"H0 (coef of correlation = 0) - reject\", \"PValue={}\".format(pvalue))\n",
        "\n",
        "    return value_stats_criteria"
      ],
      "metadata": {
        "id": "SjJy8sQdZpXQ"
      },
      "execution_count": 332,
      "outputs": []
    },
    {
      "cell_type": "code",
      "source": [
        "def transfer_to_table(X, Y, N):\n",
        "    x_step = (np.max(X) - np.min(X)) / N\n",
        "    y_step = (np.max(Y) - np.min(Y)) / N\n",
        "\n",
        "    table = []\n",
        "    for y in np.arange(np.min(Y), np.max(Y), y_step):\n",
        "        row = []\n",
        "        for x in np.arange(np.min(X), np.max(X), x_step):\n",
        "            count = 0\n",
        "            for i in range(len(X)):\n",
        "                if (x <= X[i] < x + x_step) and (y <= Y[i] < y + y_step): count += 1\n",
        "            row.append(count)\n",
        "        table.append(row)\n",
        "    return np.array(table)"
      ],
      "metadata": {
        "id": "g7EtbqyRMVsb"
      },
      "execution_count": 333,
      "outputs": []
    },
    {
      "cell_type": "markdown",
      "source": [
        "**Задача 2.1**"
      ],
      "metadata": {
        "id": "dhXjz9Emr9dc"
      }
    },
    {
      "cell_type": "code",
      "source": [
        "X = np.array([22.49, 22.56, 23.45, 22.58, 24.3, 24.2, 23.47, 23.5, 24.48, 25.02, 23.04, 23.24, 25.2, 24.61, 26.02])\n",
        "Y = np.array([52.93, 53.4, 53.7, 53.36, 61.8, 55.2, 53.54, 58.33, 60.4, 60.3, 54.28, 53.6, 62.24, 54.45, 61.52])"
      ],
      "metadata": {
        "id": "ESCzQcnf38bx"
      },
      "execution_count": 334,
      "outputs": []
    },
    {
      "cell_type": "code",
      "source": [
        "criteria_coef_correlation(X, Y)"
      ],
      "metadata": {
        "colab": {
          "base_uri": "https://localhost:8080/"
        },
        "id": "DGURz_eorpEC",
        "outputId": "1f82b3fb-5ce5-4a63-8559-55ff9cb0a0c6"
      },
      "execution_count": 335,
      "outputs": [
        {
          "output_type": "stream",
          "name": "stdout",
          "text": [
            "Коэффициент корреляции - 0.807916997741104\n",
            "Значение статистики критерия - 4.943160478465096\n",
            "Квантиль стандартного нормального распределения: уровня альфа/2 - -2.160368656461013, уровня 1 - альфа/2 - 2.1603686564610127\n"
          ]
        },
        {
          "output_type": "execute_result",
          "data": {
            "text/plain": [
              "('H0 (coef of correlation = 0) - reject', 'PValue=7.686615934865415e-07')"
            ]
          },
          "metadata": {},
          "execution_count": 335
        }
      ]
    },
    {
      "cell_type": "code",
      "source": [
        "criteria_spearman(X, Y)"
      ],
      "metadata": {
        "colab": {
          "base_uri": "https://localhost:8080/"
        },
        "id": "PFVL0oxP6wvX",
        "outputId": "4aa9e116-e72c-44bc-8fea-574ede718202"
      },
      "execution_count": 336,
      "outputs": [
        {
          "output_type": "stream",
          "name": "stdout",
          "text": [
            "Ранговый коэффициент корреляции Спирмена - 0.8821428571428571\n",
            "Значение статистики критерия - 3.300676337618441\n",
            "Квантиль стандартного нормального распределения: уровня альфа/2 - -1.9623390808264078, уровня 1 - альфа/2 - 1.9623390808264074\n"
          ]
        },
        {
          "output_type": "execute_result",
          "data": {
            "text/plain": [
              "('H0 (coef of correlation = 0) - reject', 'PValue=0.0009645208069288813')"
            ]
          },
          "metadata": {},
          "execution_count": 336
        }
      ]
    },
    {
      "cell_type": "code",
      "source": [
        "criteria_kendall(X, Y)"
      ],
      "metadata": {
        "colab": {
          "base_uri": "https://localhost:8080/"
        },
        "id": "IPAqgExirXLZ",
        "outputId": "a5c45198-7df6-40ce-de6a-b45be7428a9d"
      },
      "execution_count": 337,
      "outputs": [
        {
          "output_type": "stream",
          "name": "stdout",
          "text": [
            "Коэффициент согласованности (коэффициент Кендалла) - 0.6952380952380952\n",
            "Значение статистики критерия - 4.038968346759163\n",
            "Квантиль стандартного нормального распределения: уровня альфа/2 - -1.9623390808264078, уровня 1 - альфа/2 - 1.9623390808264074\n"
          ]
        },
        {
          "output_type": "execute_result",
          "data": {
            "text/plain": [
              "('H0 (coef of correlation = 0) - reject', 'PValue=5.3686808705766254e-05')"
            ]
          },
          "metadata": {},
          "execution_count": 337
        }
      ]
    },
    {
      "cell_type": "code",
      "source": [
        "table = transfer_to_table(X, Y, 2)\n",
        "table = np.concatenate((table, np.sum(table, axis = 0)[np.newaxis, :]), axis=0)\n",
        "table = np.concatenate((table, np.sum(table, axis = 1)[:, np.newaxis]), axis=1)\n",
        "table"
      ],
      "metadata": {
        "colab": {
          "base_uri": "https://localhost:8080/"
        },
        "id": "BtOI8JwzMaGH",
        "outputId": "3aa33adb-f5a3-40ef-ec34-de8c33bae9af"
      },
      "execution_count": 338,
      "outputs": [
        {
          "output_type": "execute_result",
          "data": {
            "text/plain": [
              "array([[ 8,  1,  9],\n",
              "       [ 1,  3,  4],\n",
              "       [ 9,  4, 13]])"
            ]
          },
          "metadata": {},
          "execution_count": 338
        }
      ]
    },
    {
      "cell_type": "code",
      "source": [
        "val = criteria_chisquared_pearson(table, 0.05)\n",
        "print(\"\")\n",
        "link_coefficients(val, table[-1,-1], table.shape[0] - 1, table.shape[1] - 1, table)"
      ],
      "metadata": {
        "colab": {
          "base_uri": "https://localhost:8080/"
        },
        "id": "QAqgzEkoMqT_",
        "outputId": "38d267b0-2147-415c-d1bd-e3a6e4f04ff4"
      },
      "execution_count": 339,
      "outputs": [
        {
          "output_type": "stream",
          "name": "stdout",
          "text": [
            "Значение статистики критерия - 5.306327160493827 \n",
            "Критическое значение критерия хи-квадрат Пирсона - 3.841458820694124\n",
            "P-значение - 5.592806096021974e-08\n",
            "Гипотеза H0 отвергается в пользу Ha (признаки зависимы)\n",
            "\n",
            "Коэффициент среднеквадратической сопряжённости - 0.6388888888888888\n",
            "Коэффициент Пирсона - 0.6388888888888888\n",
            "Коэффициент Чупрова - 0.6388888888888888\n",
            "Коэффициент Крамера - 0.6388888888888888\n",
            "Меры прогноза Гутмана: La - 0.5, Lb - 0.5\n",
            "Коэффициент контингенции - 0.6388888888888888\n",
            "Коэффициент ассоциации - 0.92\n"
          ]
        }
      ]
    },
    {
      "cell_type": "markdown",
      "source": [
        "***Выводы: Признаки имеют высокую зависимость.***"
      ],
      "metadata": {
        "id": "PICtBkQERVh-"
      }
    },
    {
      "cell_type": "markdown",
      "source": [
        "**Задача 2.2**"
      ],
      "metadata": {
        "id": "Il5rDKljsK8b"
      }
    },
    {
      "cell_type": "code",
      "source": [
        "X = np.array([20.1, 23.6, 26.3, 19.9, 16.7, 23.2, 31.4, 33.5, 28.2, 35.3, 29.3])\n",
        "Y = np.array([7.2, 7.1, 7.4, 6.1, 6.0, 7.3, 9.4, 9.2, 8.8, 10.4, 8.0])"
      ],
      "metadata": {
        "id": "dOUDLJqJsTKt"
      },
      "execution_count": 340,
      "outputs": []
    },
    {
      "cell_type": "code",
      "source": [
        "criteria_coef_correlation(X, Y)"
      ],
      "metadata": {
        "colab": {
          "base_uri": "https://localhost:8080/"
        },
        "id": "CQk2ImkIs2_0",
        "outputId": "cb6f193b-4b92-49d7-ab22-2821dde5fa1b"
      },
      "execution_count": 341,
      "outputs": [
        {
          "output_type": "stream",
          "name": "stdout",
          "text": [
            "Коэффициент корреляции - 0.9485888243336862\n",
            "Значение статистики критерия - 8.99104946703741\n",
            "Квантиль стандартного нормального распределения: уровня альфа/2 - -2.262157162740992, уровня 1 - альфа/2 - 2.2621571627409915\n"
          ]
        },
        {
          "output_type": "execute_result",
          "data": {
            "text/plain": [
              "('H0 (coef of correlation = 0) - reject', 'PValue=0.0')"
            ]
          },
          "metadata": {},
          "execution_count": 341
        }
      ]
    },
    {
      "cell_type": "code",
      "source": [
        "criteria_spearman(X, Y)"
      ],
      "metadata": {
        "colab": {
          "base_uri": "https://localhost:8080/"
        },
        "id": "MtYxpGYbtAuz",
        "outputId": "a40e7b20-3f3d-4941-e168-8b45057bdd85"
      },
      "execution_count": 342,
      "outputs": [
        {
          "output_type": "stream",
          "name": "stdout",
          "text": [
            "Ранговый коэффициент корреляции Спирмена - 0.9545454545454546\n",
            "Значение статистики критерия - 3.0185377665243625\n",
            "Квантиль стандартного нормального распределения: уровня альфа/2 - -1.9623390808264078, уровня 1 - альфа/2 - 1.9623390808264074\n"
          ]
        },
        {
          "output_type": "execute_result",
          "data": {
            "text/plain": [
              "('H0 (coef of correlation = 0) - reject', 'PValue=0.002539977411205818')"
            ]
          },
          "metadata": {},
          "execution_count": 342
        }
      ]
    },
    {
      "cell_type": "code",
      "source": [
        "criteria_kendall(X, Y)"
      ],
      "metadata": {
        "colab": {
          "base_uri": "https://localhost:8080/"
        },
        "id": "4tGN4lA0tDeZ",
        "outputId": "7322b931-ce52-49c2-bcfa-da46564e73f8"
      },
      "execution_count": 343,
      "outputs": [
        {
          "output_type": "stream",
          "name": "stdout",
          "text": [
            "Коэффициент согласованности (коэффициент Кендалла) - 0.8545454545454545\n",
            "Значение статистики критерия - 4.251309958546467\n",
            "Квантиль стандартного нормального распределения: уровня альфа/2 - -1.9623390808264078, уровня 1 - альфа/2 - 1.9623390808264074\n"
          ]
        },
        {
          "output_type": "execute_result",
          "data": {
            "text/plain": [
              "('H0 (coef of correlation = 0) - reject', 'PValue=2.1252380079328503e-05')"
            ]
          },
          "metadata": {},
          "execution_count": 343
        }
      ]
    },
    {
      "cell_type": "code",
      "source": [
        "table = transfer_to_table(X, Y, 2)\n",
        "\n",
        "table = np.concatenate((table, np.sum(table, axis = 0)[np.newaxis, :]), axis=0)\n",
        "table = np.concatenate((table, np.sum(table, axis = 1)[:, np.newaxis]), axis=1)\n",
        "table"
      ],
      "metadata": {
        "colab": {
          "base_uri": "https://localhost:8080/"
        },
        "id": "dWYp1VL4RbgY",
        "outputId": "bdfbf427-91ab-47dd-af43-8b75b6a8e4f4"
      },
      "execution_count": 344,
      "outputs": [
        {
          "output_type": "execute_result",
          "data": {
            "text/plain": [
              "array([[ 5,  2,  7],\n",
              "       [ 0,  3,  3],\n",
              "       [ 5,  5, 10]])"
            ]
          },
          "metadata": {},
          "execution_count": 344
        }
      ]
    },
    {
      "cell_type": "code",
      "source": [
        "val = criteria_chisquared_pearson(table, 0.05)\n",
        "print(\"\")\n",
        "link_coefficients(val, table[-1,-1], table.shape[0] - 1, table.shape[1] - 1, table)"
      ],
      "metadata": {
        "colab": {
          "base_uri": "https://localhost:8080/"
        },
        "id": "gUHe96aO6vOH",
        "outputId": "650f5050-062f-4ae2-94af-b57875d19cea"
      },
      "execution_count": 345,
      "outputs": [
        {
          "output_type": "stream",
          "name": "stdout",
          "text": [
            "Значение статистики критерия - 4.285714285714286 \n",
            "Критическое значение критерия хи-квадрат Пирсона - 3.841458820694124\n",
            "P-значение - 9.10764857453561e-06\n",
            "Гипотеза H0 отвергается в пользу Ha (признаки зависимы)\n",
            "\n",
            "Коэффициент среднеквадратической сопряжённости - 0.6546536707079771\n",
            "Коэффициент Пирсона - 0.6546536707079771\n",
            "Коэффициент Чупрова - 0.6546536707079771\n",
            "Коэффициент Крамера - 0.6546536707079771\n",
            "Меры прогноза Гутмана: La - 0.3333333333333336, Lb - 0.6000000000000001\n",
            "Коэффициент контингенции - 0.6546536707079772\n",
            "Коэффициент ассоциации - 1.0\n"
          ]
        }
      ]
    },
    {
      "cell_type": "markdown",
      "source": [
        "***Выводы: Признаки имеют высокую зависимость.***"
      ],
      "metadata": {
        "id": "BTuD5lXuR6eH"
      }
    }
  ]
}