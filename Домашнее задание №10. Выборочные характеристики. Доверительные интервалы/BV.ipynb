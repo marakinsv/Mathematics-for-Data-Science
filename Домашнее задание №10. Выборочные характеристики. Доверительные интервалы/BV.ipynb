{
  "nbformat": 4,
  "nbformat_minor": 0,
  "metadata": {
    "colab": {
      "provenance": []
    },
    "kernelspec": {
      "name": "python3",
      "display_name": "Python 3"
    },
    "language_info": {
      "name": "python"
    }
  },
  "cells": [
    {
      "cell_type": "code",
      "execution_count": 1,
      "metadata": {
        "id": "nvKJNalg5ZZK"
      },
      "outputs": [],
      "source": [
        "import pandas as pd\n",
        "import numpy as np\n",
        "from statsmodels.distributions.empirical_distribution import ECDF\n",
        "import matplotlib.pyplot as plt\n",
        "%matplotlib inline\n",
        "plt.rcParams[\"figure.figsize\"] = [10, 5]\n",
        "import seaborn as sns\n",
        "from scipy import stats"
      ]
    },
    {
      "cell_type": "code",
      "source": [
        "from google.colab import drive\n",
        "drive.mount('/content/drive')"
      ],
      "metadata": {
        "colab": {
          "base_uri": "https://localhost:8080/"
        },
        "id": "QExzXG2v5okD",
        "outputId": "e65e8a90-a208-4357-e6cf-fa2b4ebca046"
      },
      "execution_count": 2,
      "outputs": [
        {
          "output_type": "stream",
          "name": "stdout",
          "text": [
            "Mounted at /content/drive\n"
          ]
        }
      ]
    },
    {
      "cell_type": "code",
      "source": [
        "df = pd.read_csv(\"drive/MyDrive/Covid Data.csv\")\n",
        "df.head()"
      ],
      "metadata": {
        "colab": {
          "base_uri": "https://localhost:8080/",
          "height": 300
        },
        "id": "VQouDD0N5wmv",
        "outputId": "4e53e126-c26d-4c4c-81b9-d488ac7bbc11"
      },
      "execution_count": 3,
      "outputs": [
        {
          "output_type": "execute_result",
          "data": {
            "text/plain": [
              "   USMER  MEDICAL_UNIT  SEX  PATIENT_TYPE   DATE_DIED  INTUBED  PNEUMONIA  \\\n",
              "0      2             1    1             1  03/05/2020       97          1   \n",
              "1      2             1    2             1  03/06/2020       97          1   \n",
              "2      2             1    2             2  09/06/2020        1          2   \n",
              "3      2             1    1             1  12/06/2020       97          2   \n",
              "4      2             1    2             1  21/06/2020       97          2   \n",
              "\n",
              "   AGE  PREGNANT  DIABETES  ...  ASTHMA  INMSUPR  HIPERTENSION  OTHER_DISEASE  \\\n",
              "0   65         2         2  ...       2        2             1              2   \n",
              "1   72        97         2  ...       2        2             1              2   \n",
              "2   55        97         1  ...       2        2             2              2   \n",
              "3   53         2         2  ...       2        2             2              2   \n",
              "4   68        97         1  ...       2        2             1              2   \n",
              "\n",
              "   CARDIOVASCULAR  OBESITY  RENAL_CHRONIC  TOBACCO  CLASIFFICATION_FINAL  ICU  \n",
              "0               2        2              2        2                     3   97  \n",
              "1               2        1              1        2                     5   97  \n",
              "2               2        2              2        2                     3    2  \n",
              "3               2        2              2        2                     7   97  \n",
              "4               2        2              2        2                     3   97  \n",
              "\n",
              "[5 rows x 21 columns]"
            ],
            "text/html": [
              "\n",
              "  <div id=\"df-0ebdbabc-3f88-45fc-9cca-f1cf6714df94\">\n",
              "    <div class=\"colab-df-container\">\n",
              "      <div>\n",
              "<style scoped>\n",
              "    .dataframe tbody tr th:only-of-type {\n",
              "        vertical-align: middle;\n",
              "    }\n",
              "\n",
              "    .dataframe tbody tr th {\n",
              "        vertical-align: top;\n",
              "    }\n",
              "\n",
              "    .dataframe thead th {\n",
              "        text-align: right;\n",
              "    }\n",
              "</style>\n",
              "<table border=\"1\" class=\"dataframe\">\n",
              "  <thead>\n",
              "    <tr style=\"text-align: right;\">\n",
              "      <th></th>\n",
              "      <th>USMER</th>\n",
              "      <th>MEDICAL_UNIT</th>\n",
              "      <th>SEX</th>\n",
              "      <th>PATIENT_TYPE</th>\n",
              "      <th>DATE_DIED</th>\n",
              "      <th>INTUBED</th>\n",
              "      <th>PNEUMONIA</th>\n",
              "      <th>AGE</th>\n",
              "      <th>PREGNANT</th>\n",
              "      <th>DIABETES</th>\n",
              "      <th>...</th>\n",
              "      <th>ASTHMA</th>\n",
              "      <th>INMSUPR</th>\n",
              "      <th>HIPERTENSION</th>\n",
              "      <th>OTHER_DISEASE</th>\n",
              "      <th>CARDIOVASCULAR</th>\n",
              "      <th>OBESITY</th>\n",
              "      <th>RENAL_CHRONIC</th>\n",
              "      <th>TOBACCO</th>\n",
              "      <th>CLASIFFICATION_FINAL</th>\n",
              "      <th>ICU</th>\n",
              "    </tr>\n",
              "  </thead>\n",
              "  <tbody>\n",
              "    <tr>\n",
              "      <th>0</th>\n",
              "      <td>2</td>\n",
              "      <td>1</td>\n",
              "      <td>1</td>\n",
              "      <td>1</td>\n",
              "      <td>03/05/2020</td>\n",
              "      <td>97</td>\n",
              "      <td>1</td>\n",
              "      <td>65</td>\n",
              "      <td>2</td>\n",
              "      <td>2</td>\n",
              "      <td>...</td>\n",
              "      <td>2</td>\n",
              "      <td>2</td>\n",
              "      <td>1</td>\n",
              "      <td>2</td>\n",
              "      <td>2</td>\n",
              "      <td>2</td>\n",
              "      <td>2</td>\n",
              "      <td>2</td>\n",
              "      <td>3</td>\n",
              "      <td>97</td>\n",
              "    </tr>\n",
              "    <tr>\n",
              "      <th>1</th>\n",
              "      <td>2</td>\n",
              "      <td>1</td>\n",
              "      <td>2</td>\n",
              "      <td>1</td>\n",
              "      <td>03/06/2020</td>\n",
              "      <td>97</td>\n",
              "      <td>1</td>\n",
              "      <td>72</td>\n",
              "      <td>97</td>\n",
              "      <td>2</td>\n",
              "      <td>...</td>\n",
              "      <td>2</td>\n",
              "      <td>2</td>\n",
              "      <td>1</td>\n",
              "      <td>2</td>\n",
              "      <td>2</td>\n",
              "      <td>1</td>\n",
              "      <td>1</td>\n",
              "      <td>2</td>\n",
              "      <td>5</td>\n",
              "      <td>97</td>\n",
              "    </tr>\n",
              "    <tr>\n",
              "      <th>2</th>\n",
              "      <td>2</td>\n",
              "      <td>1</td>\n",
              "      <td>2</td>\n",
              "      <td>2</td>\n",
              "      <td>09/06/2020</td>\n",
              "      <td>1</td>\n",
              "      <td>2</td>\n",
              "      <td>55</td>\n",
              "      <td>97</td>\n",
              "      <td>1</td>\n",
              "      <td>...</td>\n",
              "      <td>2</td>\n",
              "      <td>2</td>\n",
              "      <td>2</td>\n",
              "      <td>2</td>\n",
              "      <td>2</td>\n",
              "      <td>2</td>\n",
              "      <td>2</td>\n",
              "      <td>2</td>\n",
              "      <td>3</td>\n",
              "      <td>2</td>\n",
              "    </tr>\n",
              "    <tr>\n",
              "      <th>3</th>\n",
              "      <td>2</td>\n",
              "      <td>1</td>\n",
              "      <td>1</td>\n",
              "      <td>1</td>\n",
              "      <td>12/06/2020</td>\n",
              "      <td>97</td>\n",
              "      <td>2</td>\n",
              "      <td>53</td>\n",
              "      <td>2</td>\n",
              "      <td>2</td>\n",
              "      <td>...</td>\n",
              "      <td>2</td>\n",
              "      <td>2</td>\n",
              "      <td>2</td>\n",
              "      <td>2</td>\n",
              "      <td>2</td>\n",
              "      <td>2</td>\n",
              "      <td>2</td>\n",
              "      <td>2</td>\n",
              "      <td>7</td>\n",
              "      <td>97</td>\n",
              "    </tr>\n",
              "    <tr>\n",
              "      <th>4</th>\n",
              "      <td>2</td>\n",
              "      <td>1</td>\n",
              "      <td>2</td>\n",
              "      <td>1</td>\n",
              "      <td>21/06/2020</td>\n",
              "      <td>97</td>\n",
              "      <td>2</td>\n",
              "      <td>68</td>\n",
              "      <td>97</td>\n",
              "      <td>1</td>\n",
              "      <td>...</td>\n",
              "      <td>2</td>\n",
              "      <td>2</td>\n",
              "      <td>1</td>\n",
              "      <td>2</td>\n",
              "      <td>2</td>\n",
              "      <td>2</td>\n",
              "      <td>2</td>\n",
              "      <td>2</td>\n",
              "      <td>3</td>\n",
              "      <td>97</td>\n",
              "    </tr>\n",
              "  </tbody>\n",
              "</table>\n",
              "<p>5 rows × 21 columns</p>\n",
              "</div>\n",
              "      <button class=\"colab-df-convert\" onclick=\"convertToInteractive('df-0ebdbabc-3f88-45fc-9cca-f1cf6714df94')\"\n",
              "              title=\"Convert this dataframe to an interactive table.\"\n",
              "              style=\"display:none;\">\n",
              "        \n",
              "  <svg xmlns=\"http://www.w3.org/2000/svg\" height=\"24px\"viewBox=\"0 0 24 24\"\n",
              "       width=\"24px\">\n",
              "    <path d=\"M0 0h24v24H0V0z\" fill=\"none\"/>\n",
              "    <path d=\"M18.56 5.44l.94 2.06.94-2.06 2.06-.94-2.06-.94-.94-2.06-.94 2.06-2.06.94zm-11 1L8.5 8.5l.94-2.06 2.06-.94-2.06-.94L8.5 2.5l-.94 2.06-2.06.94zm10 10l.94 2.06.94-2.06 2.06-.94-2.06-.94-.94-2.06-.94 2.06-2.06.94z\"/><path d=\"M17.41 7.96l-1.37-1.37c-.4-.4-.92-.59-1.43-.59-.52 0-1.04.2-1.43.59L10.3 9.45l-7.72 7.72c-.78.78-.78 2.05 0 2.83L4 21.41c.39.39.9.59 1.41.59.51 0 1.02-.2 1.41-.59l7.78-7.78 2.81-2.81c.8-.78.8-2.07 0-2.86zM5.41 20L4 18.59l7.72-7.72 1.47 1.35L5.41 20z\"/>\n",
              "  </svg>\n",
              "      </button>\n",
              "      \n",
              "  <style>\n",
              "    .colab-df-container {\n",
              "      display:flex;\n",
              "      flex-wrap:wrap;\n",
              "      gap: 12px;\n",
              "    }\n",
              "\n",
              "    .colab-df-convert {\n",
              "      background-color: #E8F0FE;\n",
              "      border: none;\n",
              "      border-radius: 50%;\n",
              "      cursor: pointer;\n",
              "      display: none;\n",
              "      fill: #1967D2;\n",
              "      height: 32px;\n",
              "      padding: 0 0 0 0;\n",
              "      width: 32px;\n",
              "    }\n",
              "\n",
              "    .colab-df-convert:hover {\n",
              "      background-color: #E2EBFA;\n",
              "      box-shadow: 0px 1px 2px rgba(60, 64, 67, 0.3), 0px 1px 3px 1px rgba(60, 64, 67, 0.15);\n",
              "      fill: #174EA6;\n",
              "    }\n",
              "\n",
              "    [theme=dark] .colab-df-convert {\n",
              "      background-color: #3B4455;\n",
              "      fill: #D2E3FC;\n",
              "    }\n",
              "\n",
              "    [theme=dark] .colab-df-convert:hover {\n",
              "      background-color: #434B5C;\n",
              "      box-shadow: 0px 1px 3px 1px rgba(0, 0, 0, 0.15);\n",
              "      filter: drop-shadow(0px 1px 2px rgba(0, 0, 0, 0.3));\n",
              "      fill: #FFFFFF;\n",
              "    }\n",
              "  </style>\n",
              "\n",
              "      <script>\n",
              "        const buttonEl =\n",
              "          document.querySelector('#df-0ebdbabc-3f88-45fc-9cca-f1cf6714df94 button.colab-df-convert');\n",
              "        buttonEl.style.display =\n",
              "          google.colab.kernel.accessAllowed ? 'block' : 'none';\n",
              "\n",
              "        async function convertToInteractive(key) {\n",
              "          const element = document.querySelector('#df-0ebdbabc-3f88-45fc-9cca-f1cf6714df94');\n",
              "          const dataTable =\n",
              "            await google.colab.kernel.invokeFunction('convertToInteractive',\n",
              "                                                     [key], {});\n",
              "          if (!dataTable) return;\n",
              "\n",
              "          const docLinkHtml = 'Like what you see? Visit the ' +\n",
              "            '<a target=\"_blank\" href=https://colab.research.google.com/notebooks/data_table.ipynb>data table notebook</a>'\n",
              "            + ' to learn more about interactive tables.';\n",
              "          element.innerHTML = '';\n",
              "          dataTable['output_type'] = 'display_data';\n",
              "          await google.colab.output.renderOutput(dataTable, element);\n",
              "          const docLink = document.createElement('div');\n",
              "          docLink.innerHTML = docLinkHtml;\n",
              "          element.appendChild(docLink);\n",
              "        }\n",
              "      </script>\n",
              "    </div>\n",
              "  </div>\n",
              "  "
            ]
          },
          "metadata": {},
          "execution_count": 3
        }
      ]
    },
    {
      "cell_type": "code",
      "source": [
        "df.shape"
      ],
      "metadata": {
        "colab": {
          "base_uri": "https://localhost:8080/"
        },
        "id": "NMxZZvrj9C5M",
        "outputId": "d7d57e6c-da1a-4547-fb55-b91649178d92"
      },
      "execution_count": 4,
      "outputs": [
        {
          "output_type": "execute_result",
          "data": {
            "text/plain": [
              "(1048575, 21)"
            ]
          },
          "metadata": {},
          "execution_count": 4
        }
      ]
    },
    {
      "cell_type": "markdown",
      "source": [
        "**Рассмотрим возраст заболевших.**"
      ],
      "metadata": {
        "id": "7QsJlCcJ8Eae"
      }
    },
    {
      "cell_type": "code",
      "source": [
        "df[\"AGE\"].values, np.min(df[\"AGE\"].values), np.max(df[\"AGE\"].values)"
      ],
      "metadata": {
        "colab": {
          "base_uri": "https://localhost:8080/"
        },
        "id": "kE83DvvI6yFF",
        "outputId": "d70c94de-ce9b-4202-bb9c-affa94b5f599"
      },
      "execution_count": 5,
      "outputs": [
        {
          "output_type": "execute_result",
          "data": {
            "text/plain": [
              "(array([65, 72, 55, ..., 55, 28, 52]), 0, 121)"
            ]
          },
          "metadata": {},
          "execution_count": 5
        }
      ]
    },
    {
      "cell_type": "markdown",
      "source": [
        "**Выборочное среднее.**"
      ],
      "metadata": {
        "id": "MImfPiY77l4v"
      }
    },
    {
      "cell_type": "code",
      "source": [
        "np.mean(df[\"AGE\"].values)"
      ],
      "metadata": {
        "colab": {
          "base_uri": "https://localhost:8080/"
        },
        "id": "Gfg9apEO7u0z",
        "outputId": "20901257-9543-46b0-e945-5726dcae2d44"
      },
      "execution_count": 6,
      "outputs": [
        {
          "output_type": "execute_result",
          "data": {
            "text/plain": [
              "41.794102472403026"
            ]
          },
          "metadata": {},
          "execution_count": 6
        }
      ]
    },
    {
      "cell_type": "markdown",
      "source": [
        "**Выборочная дисперсия.**"
      ],
      "metadata": {
        "id": "Nnvl4Syz8gJ6"
      }
    },
    {
      "cell_type": "code",
      "source": [
        "np.var(df[\"AGE\"].values)"
      ],
      "metadata": {
        "colab": {
          "base_uri": "https://localhost:8080/"
        },
        "id": "w7_Hj4Hw9I2L",
        "outputId": "324d6fd8-1500-4e57-88fd-729861a041c1"
      },
      "execution_count": 35,
      "outputs": [
        {
          "output_type": "execute_result",
          "data": {
            "text/plain": [
              "285.8595369236244"
            ]
          },
          "metadata": {},
          "execution_count": 35
        }
      ]
    },
    {
      "cell_type": "markdown",
      "source": [
        "**Выборочный квантиль.**"
      ],
      "metadata": {
        "id": "h3_ftP9I8pqo"
      }
    },
    {
      "cell_type": "code",
      "source": [
        "np.quantile(df[\"AGE\"].values, 0.1), np.quantile(df[\"AGE\"].values, 0.5), np.quantile(df[\"AGE\"].values, 0.7), np.quantile(df[\"AGE\"].values, 0.9), np.quantile(df[\"AGE\"].values, 0.97)"
      ],
      "metadata": {
        "colab": {
          "base_uri": "https://localhost:8080/"
        },
        "id": "rLaC8PY98bYt",
        "outputId": "db4952fa-e927-4dc8-ceb6-76cfed82e0c8"
      },
      "execution_count": 8,
      "outputs": [
        {
          "output_type": "execute_result",
          "data": {
            "text/plain": [
              "(23.0, 40.0, 50.0, 64.0, 77.0)"
            ]
          },
          "metadata": {},
          "execution_count": 8
        }
      ]
    },
    {
      "cell_type": "markdown",
      "source": [
        "**График выборочной функции распределения.**"
      ],
      "metadata": {
        "id": "wwdGNtd190T1"
      }
    },
    {
      "cell_type": "code",
      "source": [
        "ecdf = ECDF(df[\"AGE\"].values)\n",
        "plt.plot(ecdf.x, ecdf.y)"
      ],
      "metadata": {
        "colab": {
          "base_uri": "https://localhost:8080/",
          "height": 337
        },
        "id": "dn_GVx9w90hU",
        "outputId": "4a235b87-6108-48fc-c772-3b8d572994af"
      },
      "execution_count": 9,
      "outputs": [
        {
          "output_type": "execute_result",
          "data": {
            "text/plain": [
              "[<matplotlib.lines.Line2D at 0x7f7a813acfd0>]"
            ]
          },
          "metadata": {},
          "execution_count": 9
        },
        {
          "output_type": "display_data",
          "data": {
            "text/plain": [
              "<Figure size 720x360 with 1 Axes>"
            ],
            "image/png": "[encoded data removed]"
          },
          "metadata": {
            "needs_background": "light"
          }
        }
      ]
    },
    {
      "cell_type": "markdown",
      "source": [
        "**Гистограмма.**"
      ],
      "metadata": {
        "id": "4-rGBgSpCSLJ"
      }
    },
    {
      "cell_type": "code",
      "source": [
        "plt.hist(df[\"AGE\"].values, bins=30)\n",
        "plt.show()"
      ],
      "metadata": {
        "colab": {
          "base_uri": "https://localhost:8080/",
          "height": 320
        },
        "id": "cq803A59CK5E",
        "outputId": "d801caf6-70ec-47b0-ce63-67b3226000c7"
      },
      "execution_count": 10,
      "outputs": [
        {
          "output_type": "display_data",
          "data": {
            "text/plain": [
              "<Figure size 720x360 with 1 Axes>"
            ],
            "image/png": "[encoded data removed]"
          },
          "metadata": {
            "needs_background": "light"
          }
        }
      ]
    },
    {
      "cell_type": "markdown",
      "source": [
        "**Ядерная оценка плотности вероятности.**"
      ],
      "metadata": {
        "id": "JD8CEbAAAEO7"
      }
    },
    {
      "cell_type": "code",
      "source": [
        "sns.distplot(df[\"AGE\"].values, hist=False)"
      ],
      "metadata": {
        "colab": {
          "base_uri": "https://localhost:8080/",
          "height": 392
        },
        "id": "-Svhz4sW_iKD",
        "outputId": "2a3a4ad4-a839-4d52-93ac-f7876743831c"
      },
      "execution_count": 11,
      "outputs": [
        {
          "output_type": "stream",
          "name": "stderr",
          "text": [
            "/usr/local/lib/python3.8/dist-packages/seaborn/distributions.py:2619: FutureWarning: `distplot` is a deprecated function and will be removed in a future version. Please adapt your code to use either `displot` (a figure-level function with similar flexibility) or `kdeplot` (an axes-level function for kernel density plots).\n",
            "  warnings.warn(msg, FutureWarning)\n"
          ]
        },
        {
          "output_type": "execute_result",
          "data": {
            "text/plain": [
              "<matplotlib.axes._subplots.AxesSubplot at 0x7f7a81376640>"
            ]
          },
          "metadata": {},
          "execution_count": 11
        },
        {
          "output_type": "display_data",
          "data": {
            "text/plain": [
              "<Figure size 720x360 with 1 Axes>"
            ],
            "image/png": "[encoded data removed]"
          },
          "metadata": {
            "needs_background": "light"
          }
        }
      ]
    },
    {
      "cell_type": "markdown",
      "source": [
        "**Двусторонние доверительные интервалы.**"
      ],
      "metadata": {
        "id": "ErK8zNimB9D3"
      }
    },
    {
      "cell_type": "code",
      "source": [
        "values = df[\"AGE\"].values"
      ],
      "metadata": {
        "id": "kRnY8n2oPJyi"
      },
      "execution_count": 41,
      "outputs": []
    },
    {
      "cell_type": "markdown",
      "source": [
        "**Для математического ожидания.**"
      ],
      "metadata": {
        "id": "6HzJBkWEwwZB"
      }
    },
    {
      "cell_type": "code",
      "source": [
        "a = 1 - 0.9\n",
        "n = len(values)\n",
        "n"
      ],
      "metadata": {
        "colab": {
          "base_uri": "https://localhost:8080/"
        },
        "id": "AafCUR-Hco4N",
        "outputId": "09092299-ff77-48ea-89c4-197280804983"
      },
      "execution_count": 45,
      "outputs": [
        {
          "output_type": "execute_result",
          "data": {
            "text/plain": [
              "1048575"
            ]
          },
          "metadata": {},
          "execution_count": 45
        }
      ]
    },
    {
      "cell_type": "code",
      "source": [
        "t = stats.t.ppf(1 - a/2, n)\n",
        "\n",
        "min = np.mean(values) - (np.sqrt(np.var(values)) / np.sqrt(n)) * t\n",
        "max = np.mean(values) + (np.sqrt(np.var(values)) / np.sqrt(n)) * t\n",
        "\n",
        "print(\"Доверительный интервал для 0.9: {} < m ({}) < {}\".format(min, np.mean(values), max))"
      ],
      "metadata": {
        "id": "6zaA7I5_CClA",
        "colab": {
          "base_uri": "https://localhost:8080/"
        },
        "outputId": "be6dfd9d-8208-4851-a9f6-3026f63d1149"
      },
      "execution_count": 49,
      "outputs": [
        {
          "output_type": "stream",
          "name": "stdout",
          "text": [
            "Доверительный интервал для 0.9: 41.76694406906663 < m (41.794102472403026) < 41.82126087573942\n"
          ]
        }
      ]
    },
    {
      "cell_type": "code",
      "source": [
        "a = 1 - 0.95"
      ],
      "metadata": {
        "id": "MhIJMoNIkPvu"
      },
      "execution_count": 51,
      "outputs": []
    },
    {
      "cell_type": "code",
      "source": [
        "t = stats.t.ppf(1 - a/2, n)\n",
        "\n",
        "min = np.mean(values) - (np.sqrt(np.var(values)) / np.sqrt(n)) * t\n",
        "max = np.mean(values) + (np.sqrt(np.var(values)) / np.sqrt(n)) * t\n",
        "\n",
        "print(\"Доверительный интервал для 0.95: {} < m ({}) < {}\".format(min, np.mean(values), max))"
      ],
      "metadata": {
        "colab": {
          "base_uri": "https://localhost:8080/"
        },
        "id": "Tvugzp6pkTAW",
        "outputId": "5c4c4445-7acf-4c15-d647-5663e0203b79"
      },
      "execution_count": 52,
      "outputs": [
        {
          "output_type": "stream",
          "name": "stdout",
          "text": [
            "Доверительный интервал для 0.95: 41.76174123006475 < m (41.794102472403026) < 41.8264637147413\n"
          ]
        }
      ]
    },
    {
      "cell_type": "markdown",
      "source": [
        "**Для дисперсии.**"
      ],
      "metadata": {
        "id": "Dx5uMfQ2kuXy"
      }
    },
    {
      "cell_type": "code",
      "source": [
        "a = 1 - 0.9"
      ],
      "metadata": {
        "id": "9NztVicOksq4"
      },
      "execution_count": 62,
      "outputs": []
    },
    {
      "cell_type": "code",
      "source": [
        "c1 = stats.chi2.ppf(1 - a/2, n)\n",
        "c2 = stats.chi2.ppf(a/2, n)\n",
        "\n",
        "min = np.var(values) * (n - 1) / c1\n",
        "max = np.var(values) * (n - 1) / c2\n",
        "\n",
        "print(\"Доверительный интервал для 0.9: {} < m ({}) < {}\".format(min, np.var(values), max))"
      ],
      "metadata": {
        "colab": {
          "base_uri": "https://localhost:8080/"
        },
        "id": "vgFV_sDfmE3h",
        "outputId": "8f0bd903-dce1-45b0-d2f3-00e5a6f66547"
      },
      "execution_count": 72,
      "outputs": [
        {
          "output_type": "stream",
          "name": "stdout",
          "text": [
            "Доверительный интервал для 0.9: 285.2110538728979 < m (285.8595369236244) < 286.5098051058932\n"
          ]
        }
      ]
    },
    {
      "cell_type": "code",
      "source": [
        "a = 1 - 0.95"
      ],
      "metadata": {
        "id": "w-TXcK_0rwrg"
      },
      "execution_count": 73,
      "outputs": []
    },
    {
      "cell_type": "code",
      "source": [
        "c1 = stats.chi2.ppf(1 - a/2, n)\n",
        "c2 = stats.chi2.ppf(a/2, n)\n",
        "\n",
        "min = np.var(values) * (n - 1) / c1\n",
        "max = np.var(values) * (n - 1) / c2\n",
        "\n",
        "print(\"Доверительный интервал для 0.95: {} < m ({}) < {}\".format(min, np.var(values), max))"
      ],
      "metadata": {
        "colab": {
          "base_uri": "https://localhost:8080/"
        },
        "id": "11emq9Qkrzpb",
        "outputId": "e73b1ff8-084d-4611-8a1e-51063b19c1e3"
      },
      "execution_count": 75,
      "outputs": [
        {
          "output_type": "stream",
          "name": "stdout",
          "text": [
            "Доверительный интервал для 0.95: 285.0870630060347 < m (285.8595369236244) < 286.63462176226193\n"
          ]
        }
      ]
    },
    {
      "cell_type": "markdown",
      "source": [
        "**Односторонние доверительные интервалы.**"
      ],
      "metadata": {
        "id": "LO3GlQ6LsGm6"
      }
    },
    {
      "cell_type": "markdown",
      "source": [
        "**Для математического ожидания.**"
      ],
      "metadata": {
        "id": "I3134JgJsi5t"
      }
    },
    {
      "cell_type": "code",
      "source": [
        "a = 1 - 0.9"
      ],
      "metadata": {
        "id": "B1AlA103sKdw"
      },
      "execution_count": 77,
      "outputs": []
    },
    {
      "cell_type": "code",
      "source": [
        "t = stats.t.ppf(1 - a, n)\n",
        "\n",
        "min = np.mean(values) - (np.sqrt(np.var(values)) / np.sqrt(n)) * t\n",
        "max = np.mean(values) + (np.sqrt(np.var(values)) / np.sqrt(n)) * t\n",
        "\n",
        "print(\"Доверительный интервал для 0.9: {} < m ({}) < infinity\".format(min, np.mean(values)))\n",
        "print(\"Доверительный интервал для 0.9: -infinity < m ({}) < {}\".format(np.mean(values), max))"
      ],
      "metadata": {
        "colab": {
          "base_uri": "https://localhost:8080/"
        },
        "id": "yVDZmPnDskE3",
        "outputId": "4729e6d7-3ccb-4c0a-f16f-179d31bc3920"
      },
      "execution_count": 78,
      "outputs": [
        {
          "output_type": "stream",
          "name": "stdout",
          "text": [
            "Доверительный интервал для 0.9: 41.7729426044848 < m (41.794102472403026) < infinity\n",
            "Доверительный интервал для 0.9: -infinity < m (41.794102472403026) < 41.815262340321254\n"
          ]
        }
      ]
    },
    {
      "cell_type": "code",
      "source": [
        "a = 1 - 0.95"
      ],
      "metadata": {
        "id": "mBs_YwoVtLT_"
      },
      "execution_count": 82,
      "outputs": []
    },
    {
      "cell_type": "code",
      "source": [
        "t = stats.t.ppf(1 - a, n)\n",
        "\n",
        "min = np.mean(values) - (np.sqrt(np.var(values)) / np.sqrt(n)) * t\n",
        "max = np.mean(values) + (np.sqrt(np.var(values)) / np.sqrt(n)) * t\n",
        "\n",
        "print(\"Доверительный интервал для 0.95: {} < m ({}) < infinity\".format(min, np.mean(values)))\n",
        "print(\"Доверительный интервал для 0.95: -infinity < m ({}) < {}\".format(np.mean(values), max))"
      ],
      "metadata": {
        "colab": {
          "base_uri": "https://localhost:8080/"
        },
        "id": "EYmls057tN4T",
        "outputId": "95c268b5-4a1a-4311-cbdf-4f314f137e46"
      },
      "execution_count": 83,
      "outputs": [
        {
          "output_type": "stream",
          "name": "stdout",
          "text": [
            "Доверительный интервал для 0.95: 41.76694406906663 < m (41.794102472403026) < infinity\n",
            "Доверительный интервал для 0.95: -infinity < m (41.794102472403026) < 41.82126087573942\n"
          ]
        }
      ]
    },
    {
      "cell_type": "markdown",
      "source": [
        "**Для дисперсии.**"
      ],
      "metadata": {
        "id": "sdCwdCN9tS_-"
      }
    },
    {
      "cell_type": "code",
      "source": [
        "a = 1 - 0.9"
      ],
      "metadata": {
        "id": "khA4tbbltX-e"
      },
      "execution_count": 84,
      "outputs": []
    },
    {
      "cell_type": "code",
      "source": [
        "c1 = stats.chi2.ppf(1 - a, n)\n",
        "c2 = stats.chi2.ppf(a, n)\n",
        "\n",
        "min = np.var(values) * (n - 1) / c1\n",
        "max = np.var(values) * (n - 1) / c2\n",
        "\n",
        "print(\"Доверительный интервал для 0.9: {} < m ({}) < infinity\".format(min, np.var(values)))\n",
        "print(\"Доверительный интервал для 0.9: -infinity < m ({}) < {}\".format(np.var(values), max))"
      ],
      "metadata": {
        "colab": {
          "base_uri": "https://localhost:8080/"
        },
        "id": "7DGHwEootYHg",
        "outputId": "a56dff9e-e43d-4d3c-ad86-751ac2cc11d4"
      },
      "execution_count": 85,
      "outputs": [
        {
          "output_type": "stream",
          "name": "stdout",
          "text": [
            "Доверительный интервал для 0.9: 285.3540966635374 < m (285.8595369236244) < infinity\n",
            "Доверительный интервал для 0.9: -infinity < m (285.8595369236244) < 286.365989411814\n"
          ]
        }
      ]
    },
    {
      "cell_type": "code",
      "source": [
        "a = 1 - 0.95"
      ],
      "metadata": {
        "id": "3CSBhDawtz66"
      },
      "execution_count": 86,
      "outputs": []
    },
    {
      "cell_type": "code",
      "source": [
        "c1 = stats.chi2.ppf(1 - a, n)\n",
        "c2 = stats.chi2.ppf(a, n)\n",
        "\n",
        "min = np.var(values) * (n - 1) / c1\n",
        "max = np.var(values) * (n - 1) / c2\n",
        "\n",
        "print(\"Доверительный интервал для 0.95: {} < m ({}) < infinity\".format(min, np.var(values)))\n",
        "print(\"Доверительный интервал для 0.95: -infinity < m ({}) < {}\".format(np.var(values), max))"
      ],
      "metadata": {
        "colab": {
          "base_uri": "https://localhost:8080/"
        },
        "id": "5QcuW7WWt3u4",
        "outputId": "2dedab5b-7ed5-4ac0-e050-070177824447"
      },
      "execution_count": 87,
      "outputs": [
        {
          "output_type": "stream",
          "name": "stdout",
          "text": [
            "Доверительный интервал для 0.95: 285.2110538728979 < m (285.8595369236244) < infinity\n",
            "Доверительный интервал для 0.95: -infinity < m (285.8595369236244) < 286.5098051058932\n"
          ]
        }
      ]
    }
  ]
}