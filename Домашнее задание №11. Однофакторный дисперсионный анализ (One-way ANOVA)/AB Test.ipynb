{
  "nbformat": 4,
  "nbformat_minor": 0,
  "metadata": {
    "colab": {
      "provenance": []
    },
    "kernelspec": {
      "name": "python3",
      "display_name": "Python 3"
    },
    "language_info": {
      "name": "python"
    }
  },
  "cells": [
    {
      "cell_type": "code",
      "execution_count": 52,
      "metadata": {
        "id": "nvKJNalg5ZZK"
      },
      "outputs": [],
      "source": [
        "import pandas as pd\n",
        "import numpy as np\n",
        "from statsmodels.distributions.empirical_distribution import ECDF\n",
        "import matplotlib.pyplot as plt\n",
        "%matplotlib inline\n",
        "plt.rcParams[\"figure.figsize\"] = [10, 5]\n",
        "import seaborn as sns\n",
        "from scipy import stats\n",
        "import math"
      ]
    },
    {
      "cell_type": "markdown",
      "source": [
        "**Гипотеза о равенстве вероятностей «успеха».**"
      ],
      "metadata": {
        "id": "0OIDo1YfoeQa"
      }
    },
    {
      "cell_type": "code",
      "source": [
        "def valueStatsCriteria(n11, n12, n21, n22):\n",
        "    n1_ = n11 + n12\n",
        "    n2_ = n21 + n22\n",
        "\n",
        "    n_1 = n11 + n21\n",
        "    n_2 = n12 + n22\n",
        "\n",
        "    n = n1_ + n2_\n",
        "\n",
        "    return (n11 / n1_ - n21 / n2_) / math.sqrt(n_1 / n * (1 - n_1 / n) * (1 / n1_ + 1 / n2_))"
      ],
      "metadata": {
        "id": "28ztKlTKbWwT"
      },
      "execution_count": 53,
      "outputs": []
    },
    {
      "cell_type": "code",
      "source": [
        "def checkValueStatsCriteria(a, value, n, Ha=\"p1 != p2\"):\n",
        "    pvalue = None\n",
        "    if Ha == \"p1 != p2\":\n",
        "        tmin = stats.t.ppf(a / 2, n)\n",
        "        tmax = stats.t.ppf(1 - a / 2, n)\n",
        "        pvalue = 2 * stats.norm.cdf(value)\n",
        "        pvalue2 = 2 - 2 * stats.norm.cdf(value)\n",
        "        if pvalue > pvalue2: pvalue = pvalue2\n",
        "        if value > tmin and value < tmax: return (\"H0 (p1 = p2) - accept\", \"PValue={}\".format(pvalue))\n",
        "    elif Ha == \"p1 > p2\":\n",
        "        tmax = stats.t.ppf(1 - a, n)\n",
        "        pvalue = 1 - stats.norm.cdf(value)\n",
        "        if value < tmax: return (\"H0 (p1 = p2) - accept\", \"PValue={}\".format(pvalue))\n",
        "    elif Ha == \"p1 < p2\":\n",
        "        tmin = stats.t.ppf(a, n)\n",
        "        pvalue = stats.norm.cdf(value)\n",
        "        if value > tmin: return (\"H0 (p1 = p2) - accept\", \"PValue={}\".format(pvalue))\n",
        "\n",
        "    return (\"H0 (p1 = p2) - reject\", \"PValue={}\".format(pvalue))"
      ],
      "metadata": {
        "id": "H9pIKjCBhrtn"
      },
      "execution_count": 54,
      "outputs": []
    },
    {
      "cell_type": "markdown",
      "source": [
        "**Задача 3.1**"
      ],
      "metadata": {
        "id": "dThXcT01u-fs"
      }
    },
    {
      "cell_type": "code",
      "source": [
        "n11 = 42; n12 = 63\n",
        "n21 = 65; n22 = 130\n",
        "\n",
        "# p1 - вероятность голосования за кандидата А в Курске\n",
        "# p2 - вероятность голосования за кандидата А во Владивостоке\n",
        "\n",
        "T = valueStatsCriteria(n11, n12, n21, n22)\n",
        "print(\"value stats criteria -\", T)\n",
        "\n",
        "checkValueStatsCriteria(0.05, T, n11 + n12 + n21 + n22, Ha=\"p1 != p2\")"
      ],
      "metadata": {
        "colab": {
          "base_uri": "https://localhost:8080/"
        },
        "id": "A-elUfXbe_D8",
        "outputId": "1cec0a95-7dff-477b-d3c7-7d50a9664493"
      },
      "execution_count": 55,
      "outputs": [
        {
          "output_type": "stream",
          "name": "stdout",
          "text": [
            "value stats criteria - 1.1497694901123454\n"
          ]
        },
        {
          "output_type": "execute_result",
          "data": {
            "text/plain": [
              "('H0 (p1 = p2) - accept', 'PValue=0.2502388245506466')"
            ]
          },
          "metadata": {},
          "execution_count": 55
        }
      ]
    },
    {
      "cell_type": "markdown",
      "source": [
        "На уровне значимости 0,05 можно считать, что уровни поддержки кандидата А в Курске и Владивостоке одинаковы."
      ],
      "metadata": {
        "id": "i0Iv7mJH1mru"
      }
    },
    {
      "cell_type": "markdown",
      "source": [
        "**Задача 3.2**"
      ],
      "metadata": {
        "id": "LSVVhywTzv3E"
      }
    },
    {
      "cell_type": "code",
      "source": [
        "n11 = 3; n12 = 172\n",
        "n21 = 32; n22 = 168\n",
        "\n",
        "# p1 - вероятность заболеть среди принимавших лекарство\n",
        "# p2 - вероятность заболеть среди не принимавших лекарство\n",
        "\n",
        "T = valueStatsCriteria(n11, n12, n21, n22)\n",
        "print(\"value stats criteria -\", T)\n",
        "\n",
        "checkValueStatsCriteria(0.05, T, n11 + n12 + n21 + n22, Ha=\"p1 < p2\")"
      ],
      "metadata": {
        "colab": {
          "base_uri": "https://localhost:8080/"
        },
        "id": "rZIykZ2Ezy4h",
        "outputId": "8936509f-9c00-4784-c935-bb9fb263c3d7"
      },
      "execution_count": 56,
      "outputs": [
        {
          "output_type": "stream",
          "name": "stdout",
          "text": [
            "value stats criteria - -4.74436545825051\n"
          ]
        },
        {
          "output_type": "execute_result",
          "data": {
            "text/plain": [
              "('H0 (p1 = p2) - reject', 'PValue=1.045804697525518e-06')"
            ]
          },
          "metadata": {},
          "execution_count": 56
        }
      ]
    },
    {
      "cell_type": "markdown",
      "source": [
        "На уровне значимости 0,05 можно считать, что лекарство эффективно."
      ],
      "metadata": {
        "id": "2ImTKKBl1ikr"
      }
    },
    {
      "cell_type": "markdown",
      "source": [
        "**Критерий Манна-Уитни-Уилкоксона.**"
      ],
      "metadata": {
        "id": "KGO1rDxA10Ct"
      }
    },
    {
      "cell_type": "code",
      "source": [
        "def valueStatsCriteria_(sequence1, sequence2):\n",
        "    maxvalue = 10000000000\n",
        "    ranks1 = [0] * len(sequence1)\n",
        "    ranks2 = [0] * len(sequence2)\n",
        "\n",
        "    temp_sequence1 = sequence1[:]\n",
        "    temp_sequence2 = sequence2[:]\n",
        "\n",
        "    rank = 1\n",
        "    while True:\n",
        "        minval1 = min(temp_sequence1)\n",
        "        idx1 = temp_sequence1.index(minval1)\n",
        "\n",
        "        minval2 = min(temp_sequence2)\n",
        "        idx2 = temp_sequence2.index(minval2)\n",
        "\n",
        "        if minval1 == maxvalue and minval2 == maxvalue: break\n",
        "\n",
        "        if minval1 == minval2:\n",
        "            ranks1[idx1] = rank + 0.5\n",
        "            ranks2[idx2] = rank + 0.5\n",
        "            temp_sequence1[idx1] = maxvalue\n",
        "            temp_sequence2[idx2] = maxvalue\n",
        "            rank += 2        \n",
        "        elif minval1 < minval2:\n",
        "            ranks1[idx1] = rank\n",
        "            temp_sequence1[idx1] = maxvalue\n",
        "            rank += 1\n",
        "        else:\n",
        "            ranks2[idx2] = rank\n",
        "            temp_sequence2[idx2] = maxvalue\n",
        "            rank += 1\n",
        "\n",
        "    W = sum(ranks2)\n",
        "    M = len(ranks2) / 2 * (len(ranks1) + len(ranks2) + 1)\n",
        "    D = len(ranks1) * len(ranks2) / 12 * (len(ranks1) + len(ranks2) + 1)\n",
        "\n",
        "    return (W - M) / math.sqrt(D)"
      ],
      "metadata": {
        "id": "jYRp5KG_Pgqy"
      },
      "execution_count": 57,
      "outputs": []
    },
    {
      "cell_type": "code",
      "source": [
        "def checkValueStatsCriteria_(a, value, n, Ha=\"Q != 0\"):\n",
        "    pvalue = None\n",
        "    if Ha == \"Q != 0\":\n",
        "        tmin = stats.t.ppf(a / 2, n)\n",
        "        tmax = stats.t.ppf(1 - a / 2, n)\n",
        "        pvalue = 2 * stats.norm.cdf(value)\n",
        "        pvalue2 = 2 - 2 * stats.norm.cdf(value)\n",
        "        if pvalue > pvalue2: pvalue = pvalue2\n",
        "        if value > tmin and value < tmax: return (\"H0 (Q = 0) - accept\", \"PValue={}\".format(pvalue))\n",
        "    elif Ha == \"Q > 0\":\n",
        "        tmax = stats.t.ppf(1 - a, n)\n",
        "        pvalue = 1 - stats.norm.cdf(value)\n",
        "        if value < tmax: return (\"H0 (Q = 0) - accept\", \"PValue={}\".format(pvalue))\n",
        "    elif Ha == \"Q < 0\":\n",
        "        tmin = stats.t.ppf(a, n)\n",
        "        pvalue = stats.norm.cdf(value)\n",
        "        if value > tmin: return (\"H0 (Q = 0) - accept\", \"PValue={}\".format(pvalue))\n",
        "\n",
        "    return (\"H0 (Q = 0) - reject\", \"PValue={}\".format(pvalue))"
      ],
      "metadata": {
        "id": "Wcfg9PsWiiVe"
      },
      "execution_count": 58,
      "outputs": []
    },
    {
      "cell_type": "markdown",
      "source": [
        "**Задача 3.3**"
      ],
      "metadata": {
        "id": "VRfpYqCfknod"
      }
    },
    {
      "cell_type": "code",
      "source": [
        "sequence1 = [130, 110, 120, 140, 200, 130, 140, 170, 160, 140]\n",
        "sequence2 = [120, 190, 130, 160, 150, 120, 110, 120, 200]\n",
        "\n",
        "W = valueStatsCriteria_(sequence1, sequence2)\n",
        "print(\"value stats criteria -\", W)\n",
        "\n",
        "checkValueStatsCriteria_(0.05, W, len(sequence1) + len(sequence2), Ha=\"Q < 0\")"
      ],
      "metadata": {
        "colab": {
          "base_uri": "https://localhost:8080/"
        },
        "id": "nkSdUSFPPCL7",
        "outputId": "97cd9dd3-f3ea-4198-e7e7-451aeec29728"
      },
      "execution_count": 68,
      "outputs": [
        {
          "output_type": "stream",
          "name": "stdout",
          "text": [
            "value stats criteria - -0.2857738033247041\n"
          ]
        },
        {
          "output_type": "execute_result",
          "data": {
            "text/plain": [
              "('H0 (Q = 0) - accept', 'PValue=0.3875256868350412')"
            ]
          },
          "metadata": {},
          "execution_count": 68
        }
      ]
    },
    {
      "cell_type": "markdown",
      "source": [
        "На уровне значимости до 0.387 можно считать, горожане в среднем не имеют\n",
        "более высокое давление чем жители сельской местности"
      ],
      "metadata": {
        "id": "XlD6YAgXleDJ"
      }
    },
    {
      "cell_type": "markdown",
      "source": [
        "**Задача 3.4**"
      ],
      "metadata": {
        "id": "JpjmbzkXmL3C"
      }
    },
    {
      "cell_type": "code",
      "source": [
        "sequence1 = [102.4, 100.0, 67.6, 65.9, 64.7, 39.6, 31.2]\n",
        "sequence2 = [48.1, 45.5, 41.7, 35.4, 29.1, 18.9, 58.3, 68.8, 71.3, 94.3]\n",
        "\n",
        "W = valueStatsCriteria_(sequence1, sequence2)\n",
        "print(\"value stats criteria -\", W)\n",
        "\n",
        "checkValueStatsCriteria_(0.05, W, len(sequence1) + len(sequence2), Ha=\"Q != 0\")"
      ],
      "metadata": {
        "colab": {
          "base_uri": "https://localhost:8080/"
        },
        "id": "36tUBk0dmPhM",
        "outputId": "3def5b47-62c3-4e15-824c-cfcecc5f027b"
      },
      "execution_count": 64,
      "outputs": [
        {
          "output_type": "stream",
          "name": "stdout",
          "text": [
            "value stats criteria - -1.0734900802433864\n"
          ]
        },
        {
          "output_type": "execute_result",
          "data": {
            "text/plain": [
              "('H0 (Q = 0) - accept', 'PValue=0.28305128705188465')"
            ]
          },
          "metadata": {},
          "execution_count": 64
        }
      ]
    },
    {
      "cell_type": "markdown",
      "source": [
        "с надёжностью 0,95 можно считать, что уровень\n",
        "гистамина у склонных и не склонных к аллергии курильщиков значимо не различается"
      ],
      "metadata": {
        "id": "FFpXfgqvnTH0"
      }
    }
  ]
}